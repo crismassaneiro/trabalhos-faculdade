{
 "cells": [
  {
   "cell_type": "markdown",
   "metadata": {},
   "source": [
    "### Projeto 1"
   ]
  },
  {
   "cell_type": "markdown",
   "metadata": {},
   "source": [
    "Qual a minha ideia?\n",
    "\n",
    "    Criar um site que ajude as pessoas a se prepararem para tirar certificaçoes AWS. \n",
    "\n",
    "Como funcionaria?\n",
    "\n",
    "    Contexto: atualmente a AWS disponibiliza 12 certificações. Como o projeto 1 seria apenas 1 MVP, contaria inicialmente com a preparação para 1 certificação.\n",
    "\n",
    "Por que fazer esse projeto?\n",
    "\n",
    "    Para ajudar as pessoas a terem mais conhecimento a respeito de uma assunto crucial em qualquer tipo de área da T.I. Atualmente empresas já procuram profissionais que possuem certificações.\n",
    "    "
   ]
  },
  {
   "cell_type": "markdown",
   "metadata": {},
   "source": []
  },
  {
   "cell_type": "markdown",
   "metadata": {},
   "source": []
  },
  {
   "cell_type": "markdown",
   "metadata": {},
   "source": []
  },
  {
   "cell_type": "markdown",
   "metadata": {},
   "source": []
  },
  {
   "cell_type": "markdown",
   "metadata": {},
   "source": []
  },
  {
   "cell_type": "markdown",
   "metadata": {},
   "source": []
  },
  {
   "cell_type": "markdown",
   "metadata": {},
   "source": []
  }
 ],
 "metadata": {
  "language_info": {
   "name": "python"
  }
 },
 "nbformat": 4,
 "nbformat_minor": 2
}
