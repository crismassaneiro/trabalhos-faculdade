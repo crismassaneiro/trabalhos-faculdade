{
 "cells": [
  {
   "cell_type": "markdown",
   "metadata": {},
   "source": [
    "### Projeto 1"
   ]
  },
  {
   "cell_type": "markdown",
   "metadata": {},
   "source": [
    "Qual a minha ideia?\n",
    "\n",
    "    Criar um site que ajude as pessoas a se prepararem para tirar certificaçoes AWS. \n",
    "\n",
    "Como funcionaria?\n",
    "\n",
    "    Contexto: atualmente a AWS disponibiliza 12 certificações. Como o projeto 1 seria apenas 1 MVP, contaria inicialmente com a preparação para 1 certificação.\n",
    "\n",
    "Por que fazer esse projeto?\n",
    "\n",
    "    Para ajudar as pessoas a terem mais conhecimento a respeito de uma assunto crucial em qualquer tipo de área da T.I. Atualmente empresas já procuram profissionais que possuem certificações.\n",
    "    "
   ]
  },
  {
   "cell_type": "markdown",
   "metadata": {},
   "source": [
    "### Resumo"
   ]
  },
  {
   "cell_type": "markdown",
   "metadata": {},
   "source": [
    "O projeto visa capacitar indivíduos nos serviços da AWS (Amazon Web Services), a principal plataforma de computação em nuvem, que lidera o mercado global. Com o objetivo de preparar profissionais de TI para as certificações da AWS, o projeto se concentra inicialmente na certificação AWS Certified Cloud Practitioner, oferecendo uma base abrangente dos serviços AWS. A metodologia inclui um banco de dados com mais de 300 questões modeladas conforme os exames oficiais, disponíveis em uma plataforma online intuitiva. O foco na AWS se deve à sua posição dominante e à sua importância para as empresas que utilizam computação em nuvem, oferecendo um diferencial valioso para os profissionais certificados.\n",
    "\n",
    "Palavras-chave: computação em nuvem, AWS, Google Cloud Platform, Microsoft Azure."
   ]
  },
  {
   "cell_type": "markdown",
   "metadata": {},
   "source": [
    "### Introdução"
   ]
  },
  {
   "cell_type": "markdown",
   "metadata": {},
   "source": [
    "O termo \"cloud computing\" começou a ser utilizado em 1997 e, com os avanços em hardware, essa tecnologia se popularizou, ganhando notoriedade e destaque. Atualmente, pequenas, médias e grandes empresas utilizam serviços de computação em nuvem para construir seus sistemas e desenvolver softwares. Grandes players dominam o mercado de computação em nuvem e definem suas tendências futuras: Amazon, com o serviço AWS; Google, com o Google Cloud Platform (GCP); e Microsoft, com o Azure. Essas empresas lideram o mercado ocidental de computação em nuvem e ditam o ritmo das novas evoluções. Atualmente, o maior player de computação em nuvem é a AWS, que também foi a primeira empresa a oferecer serviços de nuvem para terceiros.\n",
    "\n",
    "Diante desse cenário, este projeto tem como objetivo capacitar indivíduos a compreenderem plenamente os serviços oferecidos pela AWS, a qual disponibiliza atualmente 12 certificações, abrangendo desde o nível básico até o avançado no vasto ecossistema de computação em nuvem. O foco na AWS é justificado pela sua liderança indiscutível no mercado de serviços em nuvem, tornando-se um diferencial valioso para profissionais de TI que desejam se destacar e atender às exigências do mercado de trabalho.\n",
    "\n",
    "Este projeto ambiciona preparar os usuários para os rigorosos exames de certificação da AWS, que demandam um profundo conhecimento dos serviços oferecidos. Atualmente, a AWS oferece 12 certificações, cada uma requerendo a realização de uma prova composta por 65 questões, supervisionada por um avaliador, e abrangendo conhecimentos específicos detalhados.\n",
    "\n",
    "Reconhecendo a magnitude desta iniciativa, o projeto será inicialmente implementado através de um MVP (Minimum Viable Product), com foco na preparação para a certificação AWS Certified Cloud Practitioner, que proporciona uma introdução abrangente aos serviços AWS.\n",
    "\n",
    "A metodologia de preparação incluirá um banco de dados com mais de 300 questões elaboradas sobre os serviços da AWS, estruturadas no formato das perguntas dos exames oficiais. Esse formato visa familiarizar os estudantes com o tipo e o estilo das perguntas que encontrarão durante a certificação. Este treinamento será disponibilizado por meio de uma plataforma online intuitiva e acessível.\n",
    "\n",
    "Palavras-chave: Cloud computing (computação em nuvem), AWS (Amazon Web Service), GCP (Google Cloud Platform), Microsoft Azure."
   ]
  },
  {
   "cell_type": "code",
   "execution_count": null,
   "metadata": {},
   "outputs": [],
   "source": [
    "1.1 Objetivo"
   ]
  },
  {
   "cell_type": "code",
   "execution_count": null,
   "metadata": {},
   "outputs": [],
   "source": [
    "Desenvolver uma plataforma educacional inovadora e abrangente destinada a capacitar indivíduos que desejam aprimorar seus conhecimentos em computação em nuvem, com um foco específico no vasto e dinâmico ecossistema da Amazon Web Services (AWS). Esta plataforma será projetada para proporcionar uma experiência de aprendizado completa e interativa, cobrindo desde os fundamentos até tópicos avançados, com o intuito de preparar os usuários para os rigorosos exames de certificação da AWS."
   ]
  },
  {
   "cell_type": "markdown",
   "metadata": {},
   "source": [
    "1.2 Justificativa"
   ]
  },
  {
   "cell_type": "markdown",
   "metadata": {},
   "source": [
    "A criação desta plataforma educacional é motivada pela necessidade crescente de profissionais altamente qualificados no mercado de tecnologia da informação (TI), especialmente na área de computação em nuvem. Ao oferecer acesso gratuito e de alta qualidade a recursos educacionais focados na AWS, esta iniciativa visa democratizar o conhecimento e proporcionar oportunidades equitativas para todos os interessados em se destacar profissionalmente. A AWS, sendo a líder indiscutível no setor de serviços em nuvem, representa um conjunto de habilidades extremamente valorizado e demandado. Portanto, esta plataforma não apenas ajudará os indivíduos a se qualificarem mais para o mercado de TI, mas também contribuirá para o desenvolvimento de um pool de talentos competentes e preparados para enfrentar os desafios tecnológicos contemporâneos."
   ]
  },
  {
   "cell_type": "code",
   "execution_count": null,
   "metadata": {},
   "outputs": [],
   "source": [
    "45376456785654755342534jklç kl7547"
   ]
  }
 ],
 "metadata": {
  "kernelspec": {
   "display_name": "Python 3",
   "language": "python",
   "name": "python3"
  },
  "language_info": {
   "name": "python",
   "version": "3.12.1"
  }
 },
 "nbformat": 4,
 "nbformat_minor": 2
}
