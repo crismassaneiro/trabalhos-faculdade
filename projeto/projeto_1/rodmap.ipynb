{
 "cells": [
  {
   "cell_type": "markdown",
   "metadata": {},
   "source": [
    "### Projeto 1"
   ]
  },
  {
   "cell_type": "markdown",
   "metadata": {},
   "source": [
    "Qual a minha ideia?\n",
    "\n",
    "    Criar um site que ajude as pessoas a se prepararem para tirar certificaçoes AWS. \n",
    "\n",
    "Como funcionaria?\n",
    "\n",
    "    Contexto: atualmente a AWS disponibiliza 12 certificações. Como o projeto 1 seria apenas 1 MVP, contaria inicialmente com a preparação para 1 certificação.\n",
    "\n",
    "Por que fazer esse projeto?\n",
    "\n",
    "    Para ajudar as pessoas a terem mais conhecimento a respeito de uma assunto crucial em qualquer tipo de área da T.I. Atualmente empresas já procuram profissionais que possuem certificações.\n",
    "    "
   ]
  },
  {
   "cell_type": "markdown",
   "metadata": {},
   "source": [
    "### Resumo"
   ]
  },
  {
   "cell_type": "markdown",
   "metadata": {},
   "source": [
    "O termo \"cloud computing\" começou a ser utilizado em 1997 e, com os avanços em hardware, essa tecnologia se popularizou, ganhando notoriedade e destaque. Atualmente, pequenas, médias e grandes empresas utilizam serviços de computação em nuvem para construir seus sistemas e desenvolver softwares. Grandes players dominam o mercado de computação em nuvem e definem suas tendências futuras: Amazon, com o serviço AWS; Google, com o Google Cloud Platform (GCP); e Microsoft, com o Azure. Essas empresas lideram o mercado ocidental de computação em nuvem e ditam o ritmo das novas evoluções. Atualmente, o maior player de computação em nuvem é a AWS, que também foi a primeira empresa a oferecer serviços de nuvem para terceiros.\n",
    "\n",
    "Diante desse cenário, este projeto tem como objetivo capacitar indivíduos a compreenderem plenamente os serviços oferecidos pela AWS, a qual disponibiliza atualmente 12 certificações, abrangendo desde o nível básico até o avançado no vasto ecossistema de computação em nuvem. O foco na AWS é justificado pela sua liderança indiscutível no mercado de serviços em nuvem, tornando-se um diferencial valioso para profissionais de TI que desejam se destacar e atender às exigências do mercado de trabalho.\n",
    "\n",
    "Este projeto ambiciona preparar os usuários para os rigorosos exames de certificação da AWS, que demandam um profundo conhecimento dos serviços oferecidos. Atualmente, a AWS oferece 12 certificações, cada uma requerendo a realização de uma prova composta por 65 questões, supervisionada por um avaliador, e abrangendo conhecimentos específicos detalhados.\n",
    "\n",
    "Reconhecendo a magnitude desta iniciativa, o projeto será inicialmente implementado através de um MVP (Minimum Viable Product), com foco na preparação para a certificação AWS Certified Cloud Practitioner, que proporciona uma introdução abrangente aos serviços AWS.\n",
    "\n",
    "A metodologia de preparação incluirá um banco de dados com mais de 300 questões elaboradas sobre os serviços da AWS, estruturadas no formato das perguntas dos exames oficiais. Esse formato visa familiarizar os estudantes com o tipo e o estilo das perguntas que encontrarão durante a certificação. Este treinamento será disponibilizado por meio de uma plataforma online intuitiva e acessível.\n",
    "\n",
    "Palavras-chave: Cloud computing (computação em nuvem), AWS (Amazon Web Service), GCP (Google Cloud Platform), Microsoft Azure."
   ]
  },
  {
   "cell_type": "markdown",
   "metadata": {},
   "source": []
  },
  {
   "cell_type": "markdown",
   "metadata": {},
   "source": []
  },
  {
   "cell_type": "markdown",
   "metadata": {},
   "source": []
  },
  {
   "cell_type": "markdown",
   "metadata": {},
   "source": []
  },
  {
   "cell_type": "markdown",
   "metadata": {},
   "source": []
  }
 ],
 "metadata": {
  "language_info": {
   "name": "python"
  }
 },
 "nbformat": 4,
 "nbformat_minor": 2
}
