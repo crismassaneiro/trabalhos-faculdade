{
 "cells": [
  {
   "cell_type": "code",
   "execution_count": 1,
   "metadata": {},
   "outputs": [
    {
     "name": "stdout",
     "output_type": "stream",
     "text": [
      "Função Lambda criada com sucesso!\n",
      "{'ResponseMetadata': {'RequestId': '4437e527-38d1-42d4-974f-0dfc5909a82b', 'HTTPStatusCode': 201, 'HTTPHeaders': {'date': 'Wed, 09 Oct 2024 03:43:18 GMT', 'content-type': 'application/json', 'content-length': '1388', 'connection': 'keep-alive', 'x-amzn-requestid': '4437e527-38d1-42d4-974f-0dfc5909a82b'}, 'RetryAttempts': 0}, 'FunctionName': 'SimuladoAWSFunction', 'FunctionArn': 'arn:aws:lambda:us-east-1:058264285974:function:SimuladoAWSFunction', 'Runtime': 'python3.9', 'Role': 'arn:aws:iam::058264285974:role/LambdaDynamoDBRole', 'Handler': 'lambda_function.lambda_handler', 'CodeSize': 642, 'Description': 'Função Lambda para pegar perguntas do DynamoDB', 'Timeout': 15, 'MemorySize': 128, 'LastModified': '2024-10-09T03:43:17.754+0000', 'CodeSha256': 'xd4y1HeRMeNn7+NIPOU8Uclxbk+w3aEptb5y9XBwp8k=', 'Version': '1', 'TracingConfig': {'Mode': 'PassThrough'}, 'RevisionId': '2bac12b3-8a2e-468b-a3da-e2d44a6c0ae6', 'State': 'Pending', 'StateReason': 'The function is being created.', 'StateReasonCode': 'Creating', 'PackageType': 'Zip', 'Architectures': ['x86_64'], 'EphemeralStorage': {'Size': 512}, 'SnapStart': {'ApplyOn': 'None', 'OptimizationStatus': 'Off'}, 'RuntimeVersionConfig': {'RuntimeVersionArn': 'arn:aws:lambda:us-east-1::runtime:4b9806e1cdd0fd84da9f06bddce167a8f7569f1e856ebedae2e14f44bbaa6999'}, 'LoggingConfig': {'LogFormat': 'Text', 'LogGroup': '/aws/lambda/SimuladoAWSFunction'}}\n"
     ]
    }
   ],
   "source": [
    "import boto3\n",
    "import zipfile\n",
    "import os\n",
    "\n",
    "# Especificar o perfil do AWS CLI\n",
    "session = boto3.Session(profile_name='CRISTIAN_AWS')\n",
    "\n",
    "# Criar cliente do Lambda com a sessão específica\n",
    "lambda_client = session.client('lambda')\n",
    "\n",
    "# Função para criar um arquivo zip contendo o código da Lambda\n",
    "def criar_arquivo_zip():\n",
    "    # Código da função Lambda\n",
    "    codigo_lambda = \"\"\"\n",
    "import json\n",
    "import boto3\n",
    "import random\n",
    "\n",
    "# Conectar ao DynamoDB\n",
    "dynamodb = boto3.resource('dynamodb')\n",
    "tabela = dynamodb.Table('PerguntasSimulado')\n",
    "\n",
    "def lambda_handler(event, context):\n",
    "    # Obter todas as perguntas do DynamoDB\n",
    "    response = tabela.scan()\n",
    "    perguntas = response['Items']\n",
    "    \n",
    "    # Selecionar uma pergunta aleatória\n",
    "    pergunta_escolhida = random.choice(perguntas)\n",
    "    \n",
    "    return {\n",
    "        'statusCode': 200,\n",
    "        'body': json.dumps(pergunta_escolhida)\n",
    "    }\n",
    "    \"\"\"\n",
    "\n",
    "    # Criar um arquivo ZIP contendo o código da Lambda\n",
    "    with open(\"lambda_function.py\", \"w\") as arquivo_lambda:\n",
    "        arquivo_lambda.write(codigo_lambda)\n",
    "    \n",
    "    # Compactar o arquivo\n",
    "    with zipfile.ZipFile(\"lambda_function.zip\", \"w\") as zipf:\n",
    "        zipf.write(\"lambda_function.py\")\n",
    "\n",
    "# Função para criar a Lambda na AWS\n",
    "def criar_lambda():\n",
    "    criar_arquivo_zip()\n",
    "    \n",
    "    # Ler o arquivo ZIP criado\n",
    "    with open(\"lambda_function.zip\", 'rb') as f:\n",
    "        codigo_zip = f.read()\n",
    "\n",
    "    try:\n",
    "        response = lambda_client.create_function(\n",
    "            FunctionName='SimuladoAWSFunction',\n",
    "            Runtime='python3.9',\n",
    "            Role='arn:aws:iam::058264285974:role/LambdaDynamoDBRole',  # Coloque o ARN da IAM Role que a Lambda vai usar\n",
    "            Handler='lambda_function.lambda_handler',\n",
    "            Code={'ZipFile': codigo_zip},\n",
    "            Description='Função Lambda para pegar perguntas do DynamoDB',\n",
    "            Timeout=15,\n",
    "            MemorySize=128,\n",
    "            Publish=True\n",
    "        )\n",
    "        print(\"Função Lambda criada com sucesso!\")\n",
    "        print(response)\n",
    "    except Exception as e:\n",
    "        print(f\"Erro ao criar a função Lambda: {e}\")\n",
    "\n",
    "# Chamar a função para criar a Lambda\n",
    "criar_lambda()"
   ]
  },
  {
   "cell_type": "code",
   "execution_count": null,
   "metadata": {},
   "outputs": [],
   "source": []
  }
 ],
 "metadata": {
  "kernelspec": {
   "display_name": "Python 3",
   "language": "python",
   "name": "python3"
  },
  "language_info": {
   "codemirror_mode": {
    "name": "ipython",
    "version": 3
   },
   "file_extension": ".py",
   "mimetype": "text/x-python",
   "name": "python",
   "nbconvert_exporter": "python",
   "pygments_lexer": "ipython3",
   "version": "3.12.1"
  }
 },
 "nbformat": 4,
 "nbformat_minor": 2
}
