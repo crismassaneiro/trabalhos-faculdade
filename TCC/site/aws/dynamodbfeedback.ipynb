{
 "cells": [
  {
   "cell_type": "code",
   "execution_count": 1,
   "metadata": {},
   "outputs": [
    {
     "name": "stdout",
     "output_type": "stream",
     "text": [
      "Tabela FeedbackSimulado criada com sucesso.\n",
      "Feedback inserido com sucesso: 93bd6e44-1666-4b0a-9efe-70ee06953ed1\n"
     ]
    }
   ],
   "source": [
    "import boto3\n",
    "from datetime import datetime\n",
    "import uuid\n",
    "\n",
    "# Especificar o perfil do AWS CLI\n",
    "session = boto3.Session(profile_name='CRISTIAN_AWS')\n",
    "\n",
    "# Criar cliente do DynamoDB\n",
    "dynamodb = session.resource('dynamodb')\n",
    "\n",
    "# Função para criar a tabela FeedbackSimulado\n",
    "def criar_tabela_feedback():\n",
    "    try:\n",
    "        tabela = dynamodb.create_table(\n",
    "            TableName='FeedbackSimulado',\n",
    "            KeySchema=[\n",
    "                {\n",
    "                    'AttributeName': 'FeedbackID',\n",
    "                    'KeyType': 'HASH'  # Chave primária\n",
    "                }\n",
    "            ],\n",
    "            AttributeDefinitions=[\n",
    "                {\n",
    "                    'AttributeName': 'FeedbackID',\n",
    "                    'AttributeType': 'S'  # Tipo string\n",
    "                }\n",
    "            ],\n",
    "            ProvisionedThroughput={\n",
    "                'ReadCapacityUnits': 5,\n",
    "                'WriteCapacityUnits': 5\n",
    "            }\n",
    "        )\n",
    "        tabela.wait_until_exists()\n",
    "        print(\"Tabela FeedbackSimulado criada com sucesso.\")\n",
    "    except Exception as e:\n",
    "        print(f\"Erro ao criar tabela: {e}\")\n",
    "\n",
    "# Função para inserir feedback na tabela\n",
    "def inserir_feedback(pergunta_id, comentario, satisfacao):\n",
    "    tabela = dynamodb.Table('FeedbackSimulado')\n",
    "    feedback_id = str(uuid.uuid4())  # Gerar um UUID para o FeedbackID\n",
    "    data_hora = datetime.now().strftime(\"%Y-%m-%d %H:%M:%S\")\n",
    "    \n",
    "    # Inserir item de feedback na tabela\n",
    "    tabela.put_item(\n",
    "        Item={\n",
    "            'FeedbackID': feedback_id,\n",
    "            'PerguntaID': pergunta_id,\n",
    "            'Comentario': comentario,\n",
    "            'Satisfacao': satisfacao,\n",
    "            'DataHora': data_hora\n",
    "        }\n",
    "    )\n",
    "    print(f\"Feedback inserido com sucesso: {feedback_id}\")\n",
    "\n",
    "# Criar a tabela\n",
    "criar_tabela_feedback()\n",
    "\n",
    "# Exemplo de inserção de feedback\n",
    "inserir_feedback('1', 'Gostei da explicação, foi clara.', 'Satisfeito')"
   ]
  },
  {
   "cell_type": "code",
   "execution_count": null,
   "metadata": {},
   "outputs": [],
   "source": []
  }
 ],
 "metadata": {
  "kernelspec": {
   "display_name": "Python 3",
   "language": "python",
   "name": "python3"
  },
  "language_info": {
   "codemirror_mode": {
    "name": "ipython",
    "version": 3
   },
   "file_extension": ".py",
   "mimetype": "text/x-python",
   "name": "python",
   "nbconvert_exporter": "python",
   "pygments_lexer": "ipython3",
   "version": "3.12.1"
  }
 },
 "nbformat": 4,
 "nbformat_minor": 2
}
