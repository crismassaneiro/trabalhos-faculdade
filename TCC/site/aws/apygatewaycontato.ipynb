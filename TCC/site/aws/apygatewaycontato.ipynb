{
 "cells": [
  {
   "cell_type": "code",
   "execution_count": 2,
   "metadata": {},
   "outputs": [
    {
     "name": "stdout",
     "output_type": "stream",
     "text": [
      "API HTTP criada com sucesso. ID da API: 88behuyzza\n",
      "Integração Lambda configurada com sucesso: 3zlgbpj\n",
      "API implantada. URL: https://88behuyzza.execute-api.us-east-1.amazonaws.com/prod\n"
     ]
    }
   ],
   "source": [
    "import boto3\n",
    "\n",
    "# Criar uma sessão com um perfil específico\n",
    "session = boto3.Session(profile_name='CRISTIAN_AWS')\n",
    "apigateway = session.client('apigatewayv2')  # Usar apigatewayv2 para APIs HTTP\n",
    "\n",
    "# Função para criar a API Gateway HTTP\n",
    "def criar_api_gateway_http():\n",
    "    response = apigateway.create_api(\n",
    "        Name='ContatoFormularioAPI_HTTP',\n",
    "        ProtocolType='HTTP',\n",
    "        Target='arn:aws:lambda:us-east-1:058264285974:function:ContatoFormularioFunction',  # Alvo: Lambda Function\n",
    "    )\n",
    "\n",
    "    api_id = response['ApiId']\n",
    "    print(f\"API HTTP criada com sucesso. ID da API: {api_id}\")\n",
    "\n",
    "    return api_id\n",
    "\n",
    "# Função para habilitar o CORS\n",
    "def configurar_cors(api_id):\n",
    "    response = apigateway.create_integration(\n",
    "        ApiId=api_id,\n",
    "        IntegrationType='AWS_PROXY',\n",
    "        IntegrationUri=f'arn:aws:apigateway:us-east-1:lambda:path/2015-03-31/functions/arn:aws:lambda:us-east-1:058264285974:function:ContatoFormularioFunction/invocations',\n",
    "        PayloadFormatVersion='2.0'\n",
    "    )\n",
    "\n",
    "    print(f\"Integração Lambda configurada com sucesso: {response['IntegrationId']}\")\n",
    "\n",
    "# Função para implantar a API\n",
    "def implantar_api_http(api_id):\n",
    "    response = apigateway.create_stage(\n",
    "        ApiId=api_id,\n",
    "        StageName='prod',\n",
    "        AutoDeploy=True  # Implementa automaticamente mudanças\n",
    "    )\n",
    "\n",
    "    print(f\"API implantada. URL: https://{api_id}.execute-api.us-east-1.amazonaws.com/prod\")\n",
    "\n",
    "# Função principal\n",
    "def criar_api_http_e_integrar_lambda():\n",
    "    # Criar API HTTP\n",
    "    api_id = criar_api_gateway_http()\n",
    "\n",
    "    # Configurar integração com Lambda e CORS\n",
    "    configurar_cors(api_id)\n",
    "\n",
    "    # Implantar API\n",
    "    implantar_api_http(api_id)\n",
    "\n",
    "# Chamar a função principal\n",
    "criar_api_http_e_integrar_lambda()\n"
   ]
  },
  {
   "cell_type": "code",
   "execution_count": null,
   "metadata": {},
   "outputs": [],
   "source": []
  }
 ],
 "metadata": {
  "kernelspec": {
   "display_name": "Python 3",
   "language": "python",
   "name": "python3"
  },
  "language_info": {
   "codemirror_mode": {
    "name": "ipython",
    "version": 3
   },
   "file_extension": ".py",
   "mimetype": "text/x-python",
   "name": "python",
   "nbconvert_exporter": "python",
   "pygments_lexer": "ipython3",
   "version": "3.12.1"
  }
 },
 "nbformat": 4,
 "nbformat_minor": 2
}
