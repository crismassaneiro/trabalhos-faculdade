{
 "cells": [
  {
   "cell_type": "code",
   "execution_count": 1,
   "metadata": {},
   "outputs": [],
   "source": [
    "import boto3\n",
    "from botocore.exceptions import NoCredentialsError, PartialCredentialsError"
   ]
  },
  {
   "cell_type": "markdown",
   "metadata": {},
   "source": [
    "Criando a tabela no DynamoDB"
   ]
  },
  {
   "cell_type": "code",
   "execution_count": 2,
   "metadata": {},
   "outputs": [
    {
     "name": "stdout",
     "output_type": "stream",
     "text": [
      "Tabela 'ContatoFormulario' criada com sucesso.\n"
     ]
    }
   ],
   "source": [
    "import boto3\n",
    "from botocore.exceptions import NoCredentialsError, PartialCredentialsError\n",
    "\n",
    "# Especificar o perfil do AWS CLI\n",
    "session = boto3.Session(profile_name='CRISTIAN_AWS')  # Substitua 'CRISTIAN_AWS' pelo nome do seu perfil\n",
    "\n",
    "# Criar cliente do DynamoDB com a sessão específica\n",
    "dynamodb = session.resource('dynamodb')\n",
    "\n",
    "# Criação da tabela ContatoFormulario\n",
    "def criar_tabela_contato():\n",
    "    try:\n",
    "        tabela = dynamodb.create_table(\n",
    "            TableName='ContatoFormulario',\n",
    "            KeySchema=[\n",
    "                {\n",
    "                    'AttributeName': 'ContatoID',\n",
    "                    'KeyType': 'HASH'  # Chave primária\n",
    "                }\n",
    "            ],\n",
    "            AttributeDefinitions=[\n",
    "                {\n",
    "                    'AttributeName': 'ContatoID',\n",
    "                    'AttributeType': 'S'  # Tipo String para a chave primária\n",
    "                }\n",
    "            ],\n",
    "            ProvisionedThroughput={\n",
    "                'ReadCapacityUnits': 5,\n",
    "                'WriteCapacityUnits': 5\n",
    "            }\n",
    "        )\n",
    "\n",
    "        # Esperar pela criação da tabela\n",
    "        tabela.meta.client.get_waiter('table_exists').wait(TableName='ContatoFormulario')\n",
    "        print(\"Tabela 'ContatoFormulario' criada com sucesso.\")\n",
    "    \n",
    "    except (NoCredentialsError, PartialCredentialsError) as e:\n",
    "        print(f\"Erro de credenciais: {e}\")\n",
    "    \n",
    "criar_tabela_contato()\n"
   ]
  }
 ],
 "metadata": {
  "kernelspec": {
   "display_name": "Python 3",
   "language": "python",
   "name": "python3"
  },
  "language_info": {
   "codemirror_mode": {
    "name": "ipython",
    "version": 3
   },
   "file_extension": ".py",
   "mimetype": "text/x-python",
   "name": "python",
   "nbconvert_exporter": "python",
   "pygments_lexer": "ipython3",
   "version": "3.12.1"
  }
 },
 "nbformat": 4,
 "nbformat_minor": 2
}
