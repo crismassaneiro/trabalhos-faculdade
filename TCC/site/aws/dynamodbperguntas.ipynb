{
 "cells": [
  {
   "cell_type": "code",
   "execution_count": 1,
   "metadata": {},
   "outputs": [],
   "source": [
    "import boto3\n",
    "from botocore.exceptions import NoCredentialsError, PartialCredentialsError"
   ]
  },
  {
   "cell_type": "markdown",
   "metadata": {},
   "source": [
    "Criando a tabela no DynamoDB"
   ]
  },
  {
   "cell_type": "code",
   "execution_count": 3,
   "metadata": {},
   "outputs": [
    {
     "name": "stdout",
     "output_type": "stream",
     "text": [
      "Tabela criada com sucesso.\n"
     ]
    }
   ],
   "source": [
    "# Especificar o perfil do AWS CLI\n",
    "session = boto3.Session(profile_name='CRISTIAN_AWS')  # Substitua 'meu_perfil' pelo nome do seu perfil\n",
    "\n",
    "# Criar cliente do DynamoDB com a sessão específica\n",
    "dynamodb = session.resource('dynamodb')\n",
    "\n",
    "# Criação da tabela PerguntasSimulado\n",
    "def criar_tabela():\n",
    "    try:\n",
    "        tabela = dynamodb.create_table(\n",
    "            TableName='PerguntasSimulado',\n",
    "            KeySchema=[\n",
    "                {\n",
    "                    'AttributeName': 'PerguntaID',\n",
    "                    'KeyType': 'HASH'  # Chave primária\n",
    "                }\n",
    "            ],\n",
    "            AttributeDefinitions=[\n",
    "                {\n",
    "                    'AttributeName': 'PerguntaID',\n",
    "                    'AttributeType': 'S'  # Tipo String\n",
    "                }\n",
    "            ],\n",
    "            ProvisionedThroughput={\n",
    "                'ReadCapacityUnits': 10,\n",
    "                'WriteCapacityUnits': 10\n",
    "            }\n",
    "        )\n",
    "\n",
    "        # Esperar pela criação da tabela\n",
    "        tabela.meta.client.get_waiter('table_exists').wait(TableName='PerguntasSimulado')\n",
    "        print(\"Tabela criada com sucesso.\")\n",
    "    \n",
    "    except (NoCredentialsError, PartialCredentialsError) as e:\n",
    "        print(f\"Erro de credenciais: {e}\")\n",
    "    \n",
    "criar_tabela()"
   ]
  },
  {
   "cell_type": "markdown",
   "metadata": {
    "tags": [
     "parameters"
    ]
   },
   "source": [
    "Populando a tabela"
   ]
  },
  {
   "cell_type": "code",
   "execution_count": 1,
   "metadata": {},
   "outputs": [
    {
     "name": "stdout",
     "output_type": "stream",
     "text": [
      "Pergunta 1 inserida com sucesso.\n",
      "Pergunta 2 inserida com sucesso.\n",
      "Pergunta 3 inserida com sucesso.\n"
     ]
    }
   ],
   "source": [
    "import boto3\n",
    "\n",
    "# Especificar o perfil do AWS CLI\n",
    "session = boto3.Session(profile_name='CRISTIAN_AWS')\n",
    "\n",
    "# Criar cliente do DynamoDB\n",
    "dynamodb = session.resource('dynamodb')\n",
    "tabela = dynamodb.Table('PerguntasSimulado')\n",
    "\n",
    "# Lista de perguntas para inserir\n",
    "perguntas = [\n",
    "    {\n",
    "        'PerguntaID': '1',\n",
    "        'Pergunta': 'O que é a AWS?',\n",
    "        'Opcoes': ['Um provedor de cloud', 'Um sistema operacional', 'Um banco de dados', 'Uma linguagem de programação'],\n",
    "        'RespostaCorreta': 'Um provedor de cloud',\n",
    "        'JustificativaCorreta': 'A AWS é uma plataforma de serviços de computação em nuvem da Amazon.',\n",
    "        'JustificativaIncorreta': 'As outras opções não são características da AWS.',\n",
    "        'Tema': 'Infra'\n",
    "    },\n",
    "    {\n",
    "        'PerguntaID': '2',\n",
    "        'Pergunta': 'Qual é o serviço de computação da AWS?',\n",
    "        'Opcoes': ['EC2', 'S3', 'Lambda', 'DynamoDB'],\n",
    "        'RespostaCorreta': 'EC2',\n",
    "        'JustificativaCorreta': 'EC2 oferece capacidade de computação escalável na nuvem.',\n",
    "        'JustificativaIncorreta': 'As outras opções não se referem a serviços de computação direta.',\n",
    "        'Tema': 'Hardware'\n",
    "    },\n",
    "    {\n",
    "        'PerguntaID': '3',\n",
    "        'Pergunta': 'Qual é o serviço de armazenamento da AWS?',\n",
    "        'Opcoes': ['EC2', 'S3', 'Lambda', 'DynamoDB'],\n",
    "        'RespostaCorreta': 'S3',\n",
    "        'JustificativaCorreta': 'S3 é um serviço de armazenamento de objetos altamente escalável.',\n",
    "        'JustificativaIncorreta': 'As outras opções não se referem a armazenamento.',\n",
    "        'Tema': 'Storage'\n",
    "    }\n",
    "    # Adicione mais perguntas conforme necessário\n",
    "]\n",
    "\n",
    "# Função para popular a tabela\n",
    "def popular_tabela():\n",
    "    for pergunta in perguntas:\n",
    "        tabela.put_item(Item=pergunta)\n",
    "        print(f\"Pergunta {pergunta['PerguntaID']} inserida com sucesso.\")\n",
    "\n",
    "popular_tabela()\n"
   ]
  },
  {
   "cell_type": "code",
   "execution_count": null,
   "metadata": {},
   "outputs": [],
   "source": []
  }
 ],
 "metadata": {
  "kernelspec": {
   "display_name": "Python 3",
   "language": "python",
   "name": "python3"
  },
  "language_info": {
   "codemirror_mode": {
    "name": "ipython",
    "version": 3
   },
   "file_extension": ".py",
   "mimetype": "text/x-python",
   "name": "python",
   "nbconvert_exporter": "python",
   "pygments_lexer": "ipython3",
   "version": "3.12.1"
  }
 },
 "nbformat": 4,
 "nbformat_minor": 2
}
