{
 "cells": [
  {
   "cell_type": "markdown",
   "metadata": {},
   "source": [
    "Aplicações que funcionam na web ou com interface mobile é o formato preferido para desenvolvimento de software. Isso é perceptível nos canais de distribuição de software: web e lojas de aplicativos. Mesmo que o armazenamento de dados e controle de lógica seja feita num servidor (Back-end), a parte do front-end também é muito importante para uma web app. O front-end deve ser intuitivo, funcional e adequado ao tipo de aplicação que é desenvolvido.\n",
    "\n",
    "Nesse contexto, o desenvolvimento do front-end de aplicações tem muita importância na formação dos alunos do curso. Assim, apresentamos o seguinte Desafio:\n",
    "\n",
    "Que tal propor um front-end para um sistema de matrículas da universidade?\n",
    "\n",
    "    O objetivo deste Desafio é instigar que você proponha uma solução front-end para um sistema, que seja consistente e o mais completo possível em relação aos conhecimentos e tecnologias estudadas na AA. Que você possa demonstrar os conhecimentos que absorveu durante percurso da Atividade Acadêmica.  Importante: utilizando apenas os conteúdos estudados na AA. Assim, acompanhe:\n",
    "\n",
    "    Considere que você foi contratado por uma empresa para desenvolver um sistema de web, mais especificamente, a parte front-end do sistema. A empresa solicita que você planeje e desenvolva um sistema de acordo com o tema solicitado. Você deve ter a implementação de pelo menos 3 casos de uso**.\n",
    "\n",
    "Tema Proposto | Sistema de atendimento e matrículas.\n",
    "\n",
    "    Nesse tipo de sistema, é importante que se tenha a visão institucional e a visão do aluno. Os responsáveis pela instituição devem montar ofertas de turmas. Os alunos podem se matricular nas turmas.\n",
    "    As turmas são compostas por: alunos, professor e uma disciplina. As turmas devem ser ofertadas num horário/turno e dia da semana, por exemplo, 21 é segunda-feira (2) de manhã (1), assim como 33 é terça-feira (3) de noite (3), ...\n",
    "    Outros requisitos podem ser propostos pelo desenvolvedor, como: montagem da grade de ofertas, gerenciamento de pré-requisitos, controle de alocação de professores (mantendo uma carga balanceada de alocação) e etc.\n",
    "    Agora, convidamos você a responder ao Desafio proposto até o final da semana 5. Sua resposta precisa atender aos seguintes critérios:\n",
    "\n",
    "Critérios de avaliação:\n",
    "\n",
    "    Complexidade dos requisitos escolhidos para desenvolvimento e relação com o tema proposto (30%).\n",
    "    Funcionalidade. Completude da implementação e correto funcionamento (40%).\n",
    "    Correto uso das tecnologias estudadas, tanto em quantidade, como na forma de utilização (10%). \n",
    "    Geral: qualidade do código, da apresentação e avaliação da produção (20%)\n",
    "\n",
    "\n",
    "Requisitos:\n",
    "\n",
    "    O site proposto deve funcionar como uma aplicação web ou pelo menos conter recursos de programação JavaScript no front-end.\n",
    "    Como tecnologias, você pode utilizar aquelas que foram estudadas ao longo da AA.\n",
    "    Não serão aceitas tecnologias de front-end com renderização servidor (por exemplo PHP).\n",
    "    Deve ser entregue, além de arquivos de código-fonte, arquivos ou link para projeto de protótipo/planejamento, um vídeo entre 3 e 5 min, no formato MP4, com a explicação da execução e de partes importantes do código-fonte.\n",
    "    Sem o vídeo ou sem os arquivos, os alunos não recebem nota na atividade.\n",
    "    OBS.: Não serão aceitos links para github, gitlab ou qualquer outro sistema de versionamento de arquivos. O Aluno deve entregar os arquivos de código-fonte dentro de um arquivo compactado no formato ZIP. O código-fonte deve estar legível no vídeo!\n",
    "    O trabalho deve ser desenvolvido e entregue em grupo de até 5 alunos. O mínimo aceito para a realização do trabalho é que seja em trios. Os grupos serão definidos no início do bimestre. Apenas um integrante do grupo deve entregar a tarefa.\n",
    "\n",
    "Importante:\n",
    "\n",
    "    - Considere os requisitos mínimos para que o processo de matrículas seja cumprido. Você precisa, minimamente, montar um web-site dinâmico que atenda requisitos mínimos para um front-end web.\n",
    "\n",
    "    - Em relação às etapas de desenvolvimento, sugiro que primeiro você pense nas páginas/telas que o usuário deve interagir para funcionar o sistema. Projete o front, utilize uma biblioteca que auxilie o desenvolvimento de interface, como bootstrap. Implemente uma interface / interação por vez. Pense nas rotas para trocar as páginas e teste uma funcionalidade por vez.\n",
    "\n",
    "    - Para que um front-end funcione adequadamente, é necessário ter um back-end. Para manter informações sugiro que você use algum serviço de nuvem ou implemente um web-server simples, tal como vimos na disciplina. Você também pode reaproveitar o back-end implementado anteriormente em alguma disciplina do curso."
   ]
  }
 ],
 "metadata": {
  "language_info": {
   "name": "python"
  }
 },
 "nbformat": 4,
 "nbformat_minor": 2
}
